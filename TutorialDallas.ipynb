{
 "cells": [
  {
   "cell_type": "markdown",
   "metadata": {},
   "source": [
    "# Predicting hotspots of burglaries\n",
    "\n",
    "In this tutorial, hotspots of burglaries will be predicted in the city of Dallas. Three different models will be trained and their predictions will be validated."
   ]
  },
  {
   "cell_type": "markdown",
   "metadata": {},
   "source": [
    "Start by importing the hotspot library."
   ]
  },
  {
   "cell_type": "code",
   "execution_count": 1,
   "metadata": {
    "execution": {
     "iopub.execute_input": "2020-08-05T05:28:18.173116Z",
     "iopub.status.busy": "2020-08-05T05:28:18.172839Z",
     "iopub.status.idle": "2020-08-05T05:28:20.162142Z",
     "shell.execute_reply": "2020-08-05T05:28:20.161325Z",
     "shell.execute_reply.started": "2020-08-05T05:28:18.173087Z"
    }
   },
   "outputs": [],
   "source": [
    "import predictivehp.processing.data_processing as dp\n",
    "import predictivehp.models.models as models"
   ]
  },
  {
   "cell_type": "markdown",
   "metadata": {},
   "source": [
    "## Importing crime data\n",
    "\n",
    "The tutorial will consider crime data provided by the City of Dallas. The data can be imported with the Socrata API. The street map and city limits can be obtained from Dallas City Hall (https://gis.dallascityhall.com/shapefileDownload.aspx). For convenience, the data has already been stored in the package."
   ]
  },
  {
   "cell_type": "code",
   "execution_count": 2,
   "metadata": {
    "execution": {
     "iopub.execute_input": "2020-08-05T05:28:20.164120Z",
     "iopub.status.busy": "2020-08-05T05:28:20.163867Z",
     "iopub.status.idle": "2020-08-05T05:28:20.167576Z",
     "shell.execute_reply": "2020-08-05T05:28:20.166737Z",
     "shell.execute_reply.started": "2020-08-05T05:28:20.164090Z"
    }
   },
   "outputs": [],
   "source": [
    "# CONSULTAR\n",
    "\n",
    "# data = hp.import.tutorial('Dallas2017')\n",
    "# The 'data' output is an instance of an object, which has all the relevant\n",
    "# information and data such as a dataframe with incidences and shape files of\n",
    "# the city. Either store the data in a folder or request data from Socrata with\n",
    "# default parameters."
   ]
  },
  {
   "cell_type": "markdown",
   "metadata": {},
   "source": [
    "In general, data can be retrieved from the Socrata API and shape files can be specified as well."
   ]
  },
  {
   "cell_type": "code",
   "execution_count": 3,
   "metadata": {
    "execution": {
     "iopub.execute_input": "2020-08-05T05:28:20.170150Z",
     "iopub.status.busy": "2020-08-05T05:28:20.169900Z",
     "iopub.status.idle": "2020-08-05T05:28:34.049149Z",
     "shell.execute_reply": "2020-08-05T05:28:34.048302Z",
     "shell.execute_reply.started": "2020-08-05T05:28:20.170123Z"
    }
   },
   "outputs": [],
   "source": [
    "b_path = 'predictivehp/data'\n",
    "s_shp_p = f'{b_path}/streets.shp'\n",
    "c_shp_p = f'{b_path}/councils.shp'\n",
    "cl_shp_p = f'{b_path}/citylimit.shp'\n",
    "\n",
    "pp = dp.PreProcessing()\n",
    "shps = pp.shps_processing(s_shp_p, c_shp_p, cl_shp_p)\n",
    "data = pp.get_data(year=2017, n=150000)"
   ]
  },
  {
   "cell_type": "markdown",
   "metadata": {},
   "source": [
    "The crime data is stored in a Pandas DataFrame where columns **x** and **y** are the location coordinates in meters and **date** the date of the crime event."
   ]
  },
  {
   "cell_type": "code",
   "execution_count": 4,
   "metadata": {
    "execution": {
     "iopub.execute_input": "2020-08-05T05:28:34.051621Z",
     "iopub.status.busy": "2020-08-05T05:28:34.051372Z",
     "iopub.status.idle": "2020-08-05T05:28:34.066127Z",
     "shell.execute_reply": "2020-08-05T05:28:34.065394Z",
     "shell.execute_reply.started": "2020-08-05T05:28:34.051582Z"
    }
   },
   "outputs": [
    {
     "data": {
      "text/html": [
       "<div>\n",
       "<style scoped>\n",
       "    .dataframe tbody tr th:only-of-type {\n",
       "        vertical-align: middle;\n",
       "    }\n",
       "\n",
       "    .dataframe tbody tr th {\n",
       "        vertical-align: top;\n",
       "    }\n",
       "\n",
       "    .dataframe thead th {\n",
       "        text-align: right;\n",
       "    }\n",
       "</style>\n",
       "<table border=\"1\" class=\"dataframe\">\n",
       "  <thead>\n",
       "    <tr style=\"text-align: right;\">\n",
       "      <th></th>\n",
       "      <th>x</th>\n",
       "      <th>y</th>\n",
       "      <th>date</th>\n",
       "      <th>month1</th>\n",
       "      <th>y_day</th>\n",
       "    </tr>\n",
       "  </thead>\n",
       "  <tbody>\n",
       "    <tr>\n",
       "      <th>0</th>\n",
       "      <td>2.535303e+06</td>\n",
       "      <td>6.944611e+06</td>\n",
       "      <td>2017-01-01</td>\n",
       "      <td>January</td>\n",
       "      <td>1</td>\n",
       "    </tr>\n",
       "    <tr>\n",
       "      <th>1</th>\n",
       "      <td>2.504030e+06</td>\n",
       "      <td>6.966014e+06</td>\n",
       "      <td>2017-01-01</td>\n",
       "      <td>January</td>\n",
       "      <td>1</td>\n",
       "    </tr>\n",
       "    <tr>\n",
       "      <th>2</th>\n",
       "      <td>2.525848e+06</td>\n",
       "      <td>6.971430e+06</td>\n",
       "      <td>2017-01-01</td>\n",
       "      <td>January</td>\n",
       "      <td>1</td>\n",
       "    </tr>\n",
       "    <tr>\n",
       "      <th>3</th>\n",
       "      <td>2.479656e+06</td>\n",
       "      <td>6.956554e+06</td>\n",
       "      <td>2017-01-01</td>\n",
       "      <td>January</td>\n",
       "      <td>1</td>\n",
       "    </tr>\n",
       "    <tr>\n",
       "      <th>4</th>\n",
       "      <td>2.483264e+06</td>\n",
       "      <td>6.927857e+06</td>\n",
       "      <td>2017-01-01</td>\n",
       "      <td>January</td>\n",
       "      <td>1</td>\n",
       "    </tr>\n",
       "  </tbody>\n",
       "</table>\n",
       "</div>"
      ],
      "text/plain": [
       "              x             y        date   month1  y_day\n",
       "0  2.535303e+06  6.944611e+06  2017-01-01  January      1\n",
       "1  2.504030e+06  6.966014e+06  2017-01-01  January      1\n",
       "2  2.525848e+06  6.971430e+06  2017-01-01  January      1\n",
       "3  2.479656e+06  6.956554e+06  2017-01-01  January      1\n",
       "4  2.483264e+06  6.927857e+06  2017-01-01  January      1"
      ]
     },
     "execution_count": 4,
     "metadata": {},
     "output_type": "execute_result"
    }
   ],
   "source": [
    "data.head()"
   ]
  },
  {
   "cell_type": "markdown",
   "metadata": {},
   "source": [
    "## Specify the prediction configuration\n",
    "\n",
    "Data has been loaded for the entire year of 2017. In this tutorial, the first week of November will be predicted from previous crime data. Since data is available for this week, the prediction can be validated as well.\n",
    "\n",
    "All three available models, that is, STKDE, ProMap and Random Forest will be used for the prediction."
   ]
  },
  {
   "cell_type": "code",
   "execution_count": 5,
   "metadata": {
    "execution": {
     "iopub.execute_input": "2020-08-05T05:28:34.067970Z",
     "iopub.status.busy": "2020-08-05T05:28:34.067634Z",
     "iopub.status.idle": "2020-08-05T05:28:39.968877Z",
     "shell.execute_reply": "2020-08-05T05:28:39.968070Z",
     "shell.execute_reply.started": "2020-08-05T05:28:34.067940Z"
    }
   },
   "outputs": [],
   "source": [
    "from datetime import date\n",
    "model = models.create_model(\n",
    "    data=data, shps=shps,\n",
    "    start_prediction=date(2017, 11, 1), length_prediction=7,\n",
    "    use_stkde=True, use_promap=True, use_rfr=True,\n",
    "    read_rfr=True\n",
    ")\n",
    "# The output is an object that has all relevant attributes, for example the data\n",
    "# for the incidences and a separate object for each model (stkde, promap, rfr)."
   ]
  },
  {
   "cell_type": "markdown",
   "metadata": {},
   "source": [
    "## Specifying model parameters"
   ]
  },
  {
   "cell_type": "markdown",
   "metadata": {},
   "source": [
    "Optionally, hyperparameters for the predictive models can be specified."
   ]
  },
  {
   "cell_type": "code",
   "execution_count": 6,
   "metadata": {
    "execution": {
     "iopub.execute_input": "2020-08-05T05:28:39.970400Z",
     "iopub.status.busy": "2020-08-05T05:28:39.970061Z",
     "iopub.status.idle": "2020-08-05T05:28:39.974513Z",
     "shell.execute_reply": "2020-08-05T05:28:39.973127Z",
     "shell.execute_reply.started": "2020-08-05T05:28:39.970368Z"
    }
   },
   "outputs": [],
   "source": [
    "model.stkde.set_parameters(bw=[100, 200, 20])\n",
    "# No output."
   ]
  },
  {
   "cell_type": "code",
   "execution_count": 7,
   "metadata": {
    "execution": {
     "iopub.execute_input": "2020-08-05T05:28:39.976460Z",
     "iopub.status.busy": "2020-08-05T05:28:39.976167Z",
     "iopub.status.idle": "2020-08-05T05:28:39.985478Z",
     "shell.execute_reply": "2020-08-05T05:28:39.984832Z",
     "shell.execute_reply.started": "2020-08-05T05:28:39.976430Z"
    }
   },
   "outputs": [],
   "source": [
    "model.promap.set_parameters(bw=[400, 400, 7], hx=100, hy=100)\n",
    "# No output."
   ]
  },
  {
   "cell_type": "code",
   "execution_count": 8,
   "metadata": {
    "execution": {
     "iopub.execute_input": "2020-08-05T05:28:39.987013Z",
     "iopub.status.busy": "2020-08-05T05:28:39.986800Z",
     "iopub.status.idle": "2020-08-05T05:28:39.990613Z",
     "shell.execute_reply": "2020-08-05T05:28:39.989664Z",
     "shell.execute_reply.started": "2020-08-05T05:28:39.986988Z"
    }
   },
   "outputs": [],
   "source": [
    "model.rfr.set_parameters(t_history=4,\n",
    "                         xc_size=100, yc_size=100, n_layers=7,\n",
    "                         label_weights=None)\n",
    "# No output."
   ]
  },
  {
   "cell_type": "code",
   "execution_count": 9,
   "metadata": {
    "execution": {
     "iopub.execute_input": "2020-08-05T05:28:39.996675Z",
     "iopub.status.busy": "2020-08-05T05:28:39.996363Z",
     "iopub.status.idle": "2020-08-05T05:28:40.004453Z",
     "shell.execute_reply": "2020-08-05T05:28:40.003246Z",
     "shell.execute_reply.started": "2020-08-05T05:28:39.996625Z"
    }
   },
   "outputs": [
    {
     "name": "stdout",
     "output_type": "stream",
     "text": [
      "STKDE Hyperparameters\n",
      "bandwith x: 100 ft.\n",
      "bandwith y: 200 ft.\n",
      "bandwith t: 20 days\n",
      "\n",
      "ProMap Hyperparameters\n",
      "bandwith x: 400 mts\n",
      "bandwith y: 400 mts\n",
      "bandwith t: 7 days\n",
      "hx: 100 mts\n",
      "hy: 100 mts\n",
      "\n",
      "RFR Hyperparameters\n",
      "Training History:   4 weeks\n",
      "xc_size:            100 m\n",
      "yc_size:            100 m\n",
      "n_layers:           7\n",
      "l_weights:          None\n",
      "\n"
     ]
    }
   ],
   "source": [
    "model.print_parameters()\n",
    "# Print all hyperparameters of the models."
   ]
  },
  {
   "cell_type": "code",
   "execution_count": 10,
   "metadata": {
    "execution": {
     "iopub.execute_input": "2020-08-05T05:28:40.006922Z",
     "iopub.status.busy": "2020-08-05T05:28:40.006567Z",
     "iopub.status.idle": "2020-08-05T05:28:41.924982Z",
     "shell.execute_reply": "2020-08-05T05:28:41.924208Z",
     "shell.execute_reply.started": "2020-08-05T05:28:40.006879Z"
    }
   },
   "outputs": [],
   "source": [
    "model.preprocessing()\n",
    "# Instancia la clase PreProcessing"
   ]
  },
  {
   "cell_type": "markdown",
   "metadata": {},
   "source": [
    "## Training the models\n",
    "\n",
    "The models will be trained on historical crime data to optimize the prediction."
   ]
  },
  {
   "cell_type": "code",
   "execution_count": 11,
   "metadata": {
    "execution": {
     "iopub.execute_input": "2020-08-05T05:28:41.926687Z",
     "iopub.status.busy": "2020-08-05T05:28:41.926427Z",
     "iopub.status.idle": "2020-08-05T05:28:46.109861Z",
     "shell.execute_reply": "2020-08-05T05:28:46.108947Z",
     "shell.execute_reply.started": "2020-08-05T05:28:41.926655Z"
    }
   },
   "outputs": [],
   "source": [
    "model.fit()\n",
    "# No output other than messages. Perform the calculations for the training."
   ]
  },
  {
   "cell_type": "markdown",
   "metadata": {},
   "source": [
    "The STKDE model has calculated the optimal space-time bandwidth for the prediction."
   ]
  },
  {
   "cell_type": "code",
   "execution_count": 12,
   "metadata": {
    "execution": {
     "iopub.execute_input": "2020-08-05T05:28:46.111747Z",
     "iopub.status.busy": "2020-08-05T05:28:46.111497Z",
     "iopub.status.idle": "2020-08-05T05:28:46.125410Z",
     "shell.execute_reply": "2020-08-05T05:28:46.124550Z",
     "shell.execute_reply.started": "2020-08-05T05:28:46.111716Z"
    }
   },
   "outputs": [
    {
     "data": {
      "text/plain": [
       "array([100, 200,  20])"
      ]
     },
     "execution_count": 12,
     "metadata": {},
     "output_type": "execute_result"
    }
   ],
   "source": [
    "model.stkde.bw\n",
    "# Output is a list of the x-, y-, and t-bandwidth."
   ]
  },
  {
   "cell_type": "markdown",
   "metadata": {},
   "source": [
    "The ProMap model is a *lazy learner* and does not require any training: the space-time weights are fixed and only a rectangular mesh needs to be created."
   ]
  },
  {
   "cell_type": "markdown",
   "metadata": {},
   "source": [
    "The RFR model has created a forest of decision trees. Interestingly, the relative importance of the features can be retrieved. The table shows the feature importance with respect to the units of history and the depth of the layers."
   ]
  },
  {
   "cell_type": "code",
   "execution_count": null,
   "metadata": {},
   "outputs": [],
   "source": [
    "model.rfr.plot_feature_importance()\n",
    "# Output is a table with the index of the layer and the index of the histor\n",
    "# unit (for example, week -1, week -2, until week -n). Color and values indicate\n",
    "# the feature importance."
   ]
  },
  {
   "cell_type": "markdown",
   "metadata": {},
   "source": [
    "## Predicting future crimes\n",
    "\n",
    "The crimes in the first week of November will be predicted with the different models. The results are risk scores that indicate the likelihood of a future crime to occur at the specific location. These propensity scores are normalized to a scale of 0 to 1."
   ]
  },
  {
   "cell_type": "code",
   "execution_count": 13,
   "metadata": {
    "execution": {
     "iopub.execute_input": "2020-08-05T05:29:00.109337Z",
     "iopub.status.busy": "2020-08-05T05:29:00.109002Z",
     "iopub.status.idle": "2020-08-05T05:29:25.388672Z",
     "shell.execute_reply": "2020-08-05T05:29:25.387860Z",
     "shell.execute_reply.started": "2020-08-05T05:29:00.109308Z"
    }
   },
   "outputs": [
    {
     "name": "stderr",
     "output_type": "stream",
     "text": [
      "/Users/msmendoza/Documents/Python/venvs/iPre_1/lib/python3.8/site-packages/pyproj/crs/crs.py:53: FutureWarning: '+init=<authority>:<code>' syntax is deprecated. '<authority>:<code>' is the preferred initialization method. When making the change, be mindful of axis order changes: https://pyproj4.github.io/pyproj/stable/gotchas.html#axis-order-changes-in-proj-6\n",
      "  return _prepare_from_string(\" \".join(pjargs))\n",
      "/Users/msmendoza/Documents/Python/venvs/iPre_1/lib/python3.8/site-packages/pyproj/crs/crs.py:53: FutureWarning: '+init=<authority>:<code>' syntax is deprecated. '<authority>:<code>' is the preferred initialization method. When making the change, be mindful of axis order changes: https://pyproj4.github.io/pyproj/stable/gotchas.html#axis-order-changes-in-proj-6\n",
      "  return _prepare_from_string(\" \".join(pjargs))\n",
      "/Users/msmendoza/Documents/Python/venvs/iPre_1/lib/python3.8/site-packages/pyproj/crs/crs.py:53: FutureWarning: '+init=<authority>:<code>' syntax is deprecated. '<authority>:<code>' is the preferred initialization method. When making the change, be mindful of axis order changes: https://pyproj4.github.io/pyproj/stable/gotchas.html#axis-order-changes-in-proj-6\n",
      "  return _prepare_from_string(\" \".join(pjargs))\n",
      "/Users/msmendoza/Documents/Python/venvs/iPre_1/lib/python3.8/site-packages/pyproj/crs/crs.py:53: FutureWarning: '+init=<authority>:<code>' syntax is deprecated. '<authority>:<code>' is the preferred initialization method. When making the change, be mindful of axis order changes: https://pyproj4.github.io/pyproj/stable/gotchas.html#axis-order-changes-in-proj-6\n",
      "  return _prepare_from_string(\" \".join(pjargs))\n"
     ]
    },
    {
     "name": "stdout",
     "output_type": "stream",
     "text": [
      "\n",
      "Eligiendo 3600 datos...\n",
      "\n",
      "Generando dataframe...\n",
      "Preparing Testing Data for RFR...\n",
      "\tMaking predictions...\n"
     ]
    }
   ],
   "source": [
    "model.predict()\n",
    "# No output other than messages. Perform the calculations for the prediction."
   ]
  },
  {
   "cell_type": "markdown",
   "metadata": {},
   "source": [
    "The STKDE has created a function stating the risk associated to an arbitrary point on the map for any time in the prediction window. This score can be calculated at each point in space and time."
   ]
  },
  {
   "cell_type": "code",
   "execution_count": null,
   "metadata": {},
   "outputs": [],
   "source": [
    "model.stkde.score(x=123456, y=987654, t=4)\n",
    "# Output is the value of the 'pdf' function in this point."
   ]
  },
  {
   "cell_type": "markdown",
   "metadata": {},
   "source": [
    "The ProMap model has created propensity scores for each cell in the rectangular mesh. These are stored in a matrix where each element corresponds to the score of the corresponding cell in the mesh."
   ]
  },
  {
   "cell_type": "code",
   "execution_count": null,
   "metadata": {},
   "outputs": [],
   "source": [
    "model.promap.score()\n",
    "# Output is the matrix with scores."
   ]
  },
  {
   "cell_type": "markdown",
   "metadata": {},
   "source": [
    "Similarly, RFR also creates scores for each cell in a rectangular mesh."
   ]
  },
  {
   "cell_type": "code",
   "execution_count": null,
   "metadata": {},
   "outputs": [],
   "source": [
    "model.rfr.score()\n",
    "# Output is the column of the dataframe with the predicted values."
   ]
  },
  {
   "cell_type": "markdown",
   "metadata": {},
   "source": [
    "## Visualizing the prediction\n",
    "\n",
    "The prediction can be vizualized as a heat map, where the values indicate the likelihood of crime occurrence in the prediction window. Normally, hotspots of areas with a high crime risk can be seen."
   ]
  },
  {
   "cell_type": "code",
   "execution_count": null,
   "metadata": {},
   "outputs": [],
   "source": [
    "model.plot_heatmap()\n",
    "# Plot the heatmaps of all models, with the same axis and the same colorbar.\n",
    "# Include optional parameters like 'crange=[0.2,0.8]' to plot values between 0.2\n",
    "# and 0.8 only, cmap='jet', xlim=[123456,234567], savefig=True, etc."
   ]
  },
  {
   "cell_type": "markdown",
   "metadata": {},
   "source": [
    "The STKDE method provides space-time prediction, which can be visualized with a four-dimensional plot."
   ]
  },
  {
   "cell_type": "code",
   "execution_count": null,
   "metadata": {},
   "outputs": [],
   "source": [
    "model.stkde.plot_4Dheatmap()\n",
    "# Output is the 4D heatmap. If not inline, store the data in a file."
   ]
  },
  {
   "cell_type": "markdown",
   "metadata": {},
   "source": [
    "## Validation of the prediction\n",
    "\n",
    "When data is available for the prediction window, the predictions can be validated."
   ]
  },
  {
   "cell_type": "markdown",
   "metadata": {},
   "source": [
    "The testing procedures consists of an experiment where we assume that all areas with a high score will be patrolled and all incidences of crimes in this hotspot area will be detected. Multiple thresholds of the propensity score can be specified at the same time."
   ]
  },
  {
   "cell_type": "code",
   "execution_count": null,
   "metadata": {},
   "outputs": [],
   "source": [
    "model.validate(score=[0.5, 0.9])\n",
    "# No output other than messages. Perform calculations of the propensity score\n",
    "# for these values of c."
   ]
  },
  {
   "cell_type": "markdown",
   "metadata": {},
   "source": [
    "The models have calculated the number of detected incidences for each score threshold."
   ]
  },
  {
   "cell_type": "code",
   "execution_count": null,
   "metadata": {},
   "outputs": [],
   "source": [
    "model.detected_incidences()\n",
    "# The output is the number of hits for each model and each value of c."
   ]
  },
  {
   "cell_type": "markdown",
   "metadata": {},
   "source": [
    "More detected incidences indicates a better performance of the model. However, this could be at the expense of a larger area to be patrolled. Hence, it is important to calculate the area of the hotspots as well."
   ]
  },
  {
   "cell_type": "code",
   "execution_count": null,
   "metadata": {},
   "outputs": [],
   "source": [
    "model.hotspot_area()\n",
    "# The output is the hotspot area for each model and each value of c."
   ]
  },
  {
   "cell_type": "markdown",
   "metadata": {},
   "source": [
    "### Hit rate\n",
    "\n",
    "Different models can perform better for a smaller or larger area of the hotspots. Therefore, let us plot the hit rate with respect to the area. The *hit rate* is defined by the number of detected incidences inside the hotspot, divided by the total number of crime incidences in the prediction window."
   ]
  },
  {
   "cell_type": "code",
   "execution_count": null,
   "metadata": {},
   "outputs": [],
   "source": [
    "model.plot_hr()\n",
    "# The output is a figure with the HR for each model.\n",
    "# Optional parameters can be colors=['r','b','g'], models=['stkde','promap'],\n",
    "# title='mytitle', savefig=True, etc."
   ]
  },
  {
   "cell_type": "markdown",
   "metadata": {},
   "source": [
    "### Predictive accuracy index\n",
    "\n",
    "The hit rate will always increase for larger hotspot areas. To balance the merits of many hits and the costs of a large area, the predictive accuracy index (PAI) can be used. It is defined as the hit rate divided by the percentage of the hotspot area compared to the city size."
   ]
  },
  {
   "cell_type": "code",
   "execution_count": null,
   "metadata": {},
   "outputs": [],
   "source": [
    "model.plot_pai()\n",
    "# The output is a figure with the PAI for each model.\n",
    "# Optional parameters as in plot_hr()."
   ]
  },
  {
   "cell_type": "markdown",
   "metadata": {},
   "source": [
    "### Heatmap\n",
    "\n",
    "The performance can also be visualized by a heatmap. For a given score threshold, the hotspots are marked by the blue areas. The markers represent the incidences in the prediction window where green marker are hits and red markers misses."
   ]
  },
  {
   "cell_type": "code",
   "execution_count": null,
   "metadata": {},
   "outputs": [],
   "source": [
    "model.plot_heatmap(c=0.5, incidences=True)\n",
    "# Plot heatmaps for each model. In this case with red (or another color) for\n",
    "# areas with c larger than the input.\n",
    "# The rest of the area is transparent. Also, plot the incidences in the\n",
    "# prediction window with markers (points, crosses, etc.) with different colors\n",
    "# for the hits and misses.\n",
    "# In general, you want to specify the area, not the c. For example,\n",
    "# when area=0.05, you want to plot the hotspots with 5% of the total area. So,\n",
    "# you need to retrieve the corresponding c for each model."
   ]
  },
  {
   "cell_type": "markdown",
   "metadata": {},
   "source": [
    "## Storing data\n",
    "\n",
    "The data of the models can be stored, which is convenient to reduce computational time when performing the same simulation another time."
   ]
  },
  {
   "cell_type": "code",
   "execution_count": null,
   "metadata": {},
   "outputs": [],
   "source": [
    "model.store(file_name='model.data')\n",
    "# Store all usefull data to disk. Can be NumPy arrays or Pickle objects and in\n",
    "# different files."
   ]
  }
 ],
 "metadata": {
  "kernelspec": {
   "display_name": "iPre_venv",
   "language": "python",
   "name": "ipre_venv"
  },
  "language_info": {
   "codemirror_mode": {
    "name": "ipython",
    "version": 3
   },
   "file_extension": ".py",
   "mimetype": "text/x-python",
   "name": "python",
   "nbconvert_exporter": "python",
   "pygments_lexer": "ipython3",
   "version": "3.8.3"
  },
  "widgets": {
   "application/vnd.jupyter.widget-state+json": {
    "state": {},
    "version_major": 2.0,
    "version_minor": 0.0
   }
  }
 },
 "nbformat": 4,
 "nbformat_minor": 4
}
