{
 "cells": [
  {
   "cell_type": "markdown",
   "metadata": {},
   "source": [
    "# feet $\\rightarrow$ meters element-wise projection"
   ]
  },
  {
   "cell_type": "markdown",
   "metadata": {},
   "source": [
    "Para testear el script, debe ser corrido en el mismo directorio donde está la carpeta predictivehp."
   ]
  },
  {
   "cell_type": "code",
   "execution_count": 19,
   "metadata": {
    "execution": {
     "iopub.execute_input": "2020-08-07T23:44:29.462820Z",
     "iopub.status.busy": "2020-08-07T23:44:29.462540Z",
     "iopub.status.idle": "2020-08-07T23:44:29.466729Z",
     "shell.execute_reply": "2020-08-07T23:44:29.465567Z",
     "shell.execute_reply.started": "2020-08-07T23:44:29.462789Z"
    }
   },
   "outputs": [],
   "source": [
    "from pyproj import Transformer\n",
    "import predictivehp.processing.data_processing as dp"
   ]
  },
  {
   "cell_type": "code",
   "execution_count": 2,
   "metadata": {
    "execution": {
     "iopub.execute_input": "2020-08-07T23:37:09.691669Z",
     "iopub.status.busy": "2020-08-07T23:37:09.691409Z",
     "iopub.status.idle": "2020-08-07T23:37:20.120928Z",
     "shell.execute_reply": "2020-08-07T23:37:20.120052Z",
     "shell.execute_reply.started": "2020-08-07T23:37:09.691641Z"
    }
   },
   "outputs": [],
   "source": [
    "b_path = 'predictivehp/data'\n",
    "s_shp_p = f'{b_path}/streets.shp'\n",
    "c_shp_p = f'{b_path}/councils.shp'\n",
    "cl_shp_p = f'{b_path}/citylimit.shp'\n",
    "\n",
    "pp = dp.PreProcessing()\n",
    "shps = pp.shps_processing(s_shp_p, c_shp_p, cl_shp_p)\n",
    "# d0 = pp.get_data(year=2017, n=150000)"
   ]
  },
  {
   "cell_type": "code",
   "execution_count": 22,
   "metadata": {
    "execution": {
     "iopub.execute_input": "2020-08-08T00:02:57.042669Z",
     "iopub.status.busy": "2020-08-08T00:02:57.042392Z",
     "iopub.status.idle": "2020-08-08T00:02:57.281135Z",
     "shell.execute_reply": "2020-08-08T00:02:57.280348Z",
     "shell.execute_reply.started": "2020-08-08T00:02:57.042640Z"
    }
   },
   "outputs": [
    {
     "name": "stdout",
     "output_type": "stream",
     "text": [
      "-10762732.146561801 3866446.9080723226\n"
     ]
    }
   ],
   "source": [
    "inProj = Proj('epsg:2276')  # ft\n",
    "outProj = Proj('epsg:3857')  # m\n",
    "\n",
    "x1, y1 = rfr.data.head()['x'][0], rfr.data.head()['y'][0]\n",
    "transformer = Transformer.from_crs(\"epsg:2276\", \"epsg:3857\")\n",
    "x2, y2 = transformer.transform(x1, y1)\n",
    "print(x2, y2)"
   ]
  }
 ],
 "metadata": {
  "kernelspec": {
   "display_name": "iPre_venv",
   "language": "python",
   "name": "ipre_venv"
  },
  "language_info": {
   "codemirror_mode": {
    "name": "ipython",
    "version": 3
   },
   "file_extension": ".py",
   "mimetype": "text/x-python",
   "name": "python",
   "nbconvert_exporter": "python",
   "pygments_lexer": "ipython3",
   "version": "3.8.3"
  },
  "widgets": {
   "application/vnd.jupyter.widget-state+json": {
    "state": {},
    "version_major": 2,
    "version_minor": 0
   }
  }
 },
 "nbformat": 4,
 "nbformat_minor": 4
}
