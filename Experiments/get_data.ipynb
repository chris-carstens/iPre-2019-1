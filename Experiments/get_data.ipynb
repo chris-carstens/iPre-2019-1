{
 "cells": [
  {
   "cell_type": "markdown",
   "metadata": {
    "execution": {
     "iopub.execute_input": "2020-10-21T18:49:05.711707Z",
     "iopub.status.busy": "2020-10-21T18:49:05.711230Z",
     "iopub.status.idle": "2020-10-21T18:49:05.825166Z",
     "shell.execute_reply": "2020-10-21T18:49:05.823856Z",
     "shell.execute_reply.started": "2020-10-21T18:49:05.711661Z"
    }
   },
   "source": [
    "# División `get_data()`"
   ]
  },
  {
   "cell_type": "code",
   "execution_count": 1,
   "metadata": {
    "execution": {
     "iopub.execute_input": "2020-10-21T19:13:16.975036Z",
     "iopub.status.busy": "2020-10-21T19:13:16.973693Z",
     "iopub.status.idle": "2020-10-21T19:13:17.024316Z",
     "shell.execute_reply": "2020-10-21T19:13:17.023484Z",
     "shell.execute_reply.started": "2020-10-21T19:13:16.974956Z"
    }
   },
   "outputs": [],
   "source": [
    "import sys\n",
    "sys.path.append(\"../\")\n",
    "\n",
    "%load_ext autoreload\n",
    "%autoreload 2\n",
    "%config InlineBackend.figure_format = 'retina'"
   ]
  },
  {
   "cell_type": "code",
   "execution_count": 2,
   "metadata": {
    "execution": {
     "iopub.execute_input": "2020-10-21T19:13:17.029230Z",
     "iopub.status.busy": "2020-10-21T19:13:17.028017Z",
     "iopub.status.idle": "2020-10-21T19:13:18.865551Z",
     "shell.execute_reply": "2020-10-21T19:13:18.864261Z",
     "shell.execute_reply.started": "2020-10-21T19:13:17.029168Z"
    }
   },
   "outputs": [],
   "source": [
    "import numpy as np\n",
    "import pandas as pd\n",
    "\n",
    "from datetime import date, datetime, timedelta\n",
    "from predictivehp.utils import get_Socrata_data, get_stored_data\n",
    "\n",
    "pd.set_option(\"display.max_rows\", 999)"
   ]
  },
  {
   "cell_type": "markdown",
   "metadata": {},
   "source": [
    "### `get_Socrata_data()`"
   ]
  },
  {
   "cell_type": "code",
   "execution_count": 3,
   "metadata": {
    "execution": {
     "iopub.execute_input": "2020-10-21T19:13:18.869196Z",
     "iopub.status.busy": "2020-10-21T19:13:18.867925Z",
     "iopub.status.idle": "2020-10-21T19:13:22.383115Z",
     "shell.execute_reply": "2020-10-21T19:13:22.382450Z",
     "shell.execute_reply.started": "2020-10-21T19:13:18.869128Z"
    }
   },
   "outputs": [],
   "source": [
    "data = get_Socrata_data(save=True)"
   ]
  },
  {
   "cell_type": "code",
   "execution_count": 4,
   "metadata": {
    "execution": {
     "iopub.execute_input": "2020-10-21T19:13:22.385222Z",
     "iopub.status.busy": "2020-10-21T19:13:22.384949Z",
     "iopub.status.idle": "2020-10-21T19:13:22.483186Z",
     "shell.execute_reply": "2020-10-21T19:13:22.481216Z",
     "shell.execute_reply.started": "2020-10-21T19:13:22.385187Z"
    }
   },
   "outputs": [
    {
     "data": {
      "text/html": [
       "<div>\n",
       "<style scoped>\n",
       "    .dataframe tbody tr th:only-of-type {\n",
       "        vertical-align: middle;\n",
       "    }\n",
       "\n",
       "    .dataframe tbody tr th {\n",
       "        vertical-align: top;\n",
       "    }\n",
       "\n",
       "    .dataframe thead th {\n",
       "        text-align: right;\n",
       "    }\n",
       "</style>\n",
       "<table border=\"1\" class=\"dataframe\">\n",
       "  <thead>\n",
       "    <tr style=\"text-align: right;\">\n",
       "      <th></th>\n",
       "      <th>x</th>\n",
       "      <th>y</th>\n",
       "      <th>date</th>\n",
       "    </tr>\n",
       "  </thead>\n",
       "  <tbody>\n",
       "    <tr>\n",
       "      <th>0</th>\n",
       "      <td>2.525848e+06</td>\n",
       "      <td>6.971430e+06</td>\n",
       "      <td>2017-01-01</td>\n",
       "    </tr>\n",
       "    <tr>\n",
       "      <th>1</th>\n",
       "      <td>2.483264e+06</td>\n",
       "      <td>6.927857e+06</td>\n",
       "      <td>2017-01-01</td>\n",
       "    </tr>\n",
       "    <tr>\n",
       "      <th>2</th>\n",
       "      <td>2.504030e+06</td>\n",
       "      <td>6.966014e+06</td>\n",
       "      <td>2017-01-01</td>\n",
       "    </tr>\n",
       "    <tr>\n",
       "      <th>3</th>\n",
       "      <td>2.479656e+06</td>\n",
       "      <td>6.956554e+06</td>\n",
       "      <td>2017-01-01</td>\n",
       "    </tr>\n",
       "    <tr>\n",
       "      <th>4</th>\n",
       "      <td>2.526789e+06</td>\n",
       "      <td>6.972383e+06</td>\n",
       "      <td>2017-01-01</td>\n",
       "    </tr>\n",
       "  </tbody>\n",
       "</table>\n",
       "</div>"
      ],
      "text/plain": [
       "              x             y       date\n",
       "0  2.525848e+06  6.971430e+06 2017-01-01\n",
       "1  2.483264e+06  6.927857e+06 2017-01-01\n",
       "2  2.504030e+06  6.966014e+06 2017-01-01\n",
       "3  2.479656e+06  6.956554e+06 2017-01-01\n",
       "4  2.526789e+06  6.972383e+06 2017-01-01"
      ]
     },
     "execution_count": 4,
     "metadata": {},
     "output_type": "execute_result"
    }
   ],
   "source": [
    "data.head()"
   ]
  },
  {
   "cell_type": "markdown",
   "metadata": {},
   "source": [
    "### `get_stored_data()`"
   ]
  },
  {
   "cell_type": "code",
   "execution_count": 5,
   "metadata": {
    "execution": {
     "iopub.execute_input": "2020-10-21T19:13:22.505498Z",
     "iopub.status.busy": "2020-10-21T19:13:22.505109Z",
     "iopub.status.idle": "2020-10-21T19:13:22.922728Z",
     "shell.execute_reply": "2020-10-21T19:13:22.921692Z",
     "shell.execute_reply.started": "2020-10-21T19:13:22.505468Z"
    }
   },
   "outputs": [],
   "source": [
    "s_data = get_stored_data()"
   ]
  },
  {
   "cell_type": "code",
   "execution_count": 6,
   "metadata": {
    "execution": {
     "iopub.execute_input": "2020-10-21T19:13:22.924291Z",
     "iopub.status.busy": "2020-10-21T19:13:22.924096Z",
     "iopub.status.idle": "2020-10-21T19:13:22.983088Z",
     "shell.execute_reply": "2020-10-21T19:13:22.980919Z",
     "shell.execute_reply.started": "2020-10-21T19:13:22.924268Z"
    }
   },
   "outputs": [
    {
     "data": {
      "text/html": [
       "<div>\n",
       "<style scoped>\n",
       "    .dataframe tbody tr th:only-of-type {\n",
       "        vertical-align: middle;\n",
       "    }\n",
       "\n",
       "    .dataframe tbody tr th {\n",
       "        vertical-align: top;\n",
       "    }\n",
       "\n",
       "    .dataframe thead th {\n",
       "        text-align: right;\n",
       "    }\n",
       "</style>\n",
       "<table border=\"1\" class=\"dataframe\">\n",
       "  <thead>\n",
       "    <tr style=\"text-align: right;\">\n",
       "      <th></th>\n",
       "      <th>x</th>\n",
       "      <th>y</th>\n",
       "      <th>date</th>\n",
       "    </tr>\n",
       "  </thead>\n",
       "  <tbody>\n",
       "    <tr>\n",
       "      <th>0</th>\n",
       "      <td>2.525848e+06</td>\n",
       "      <td>6.971430e+06</td>\n",
       "      <td>2017-01-01</td>\n",
       "    </tr>\n",
       "    <tr>\n",
       "      <th>1</th>\n",
       "      <td>2.483264e+06</td>\n",
       "      <td>6.927857e+06</td>\n",
       "      <td>2017-01-01</td>\n",
       "    </tr>\n",
       "    <tr>\n",
       "      <th>2</th>\n",
       "      <td>2.504030e+06</td>\n",
       "      <td>6.966014e+06</td>\n",
       "      <td>2017-01-01</td>\n",
       "    </tr>\n",
       "    <tr>\n",
       "      <th>3</th>\n",
       "      <td>2.479656e+06</td>\n",
       "      <td>6.956554e+06</td>\n",
       "      <td>2017-01-01</td>\n",
       "    </tr>\n",
       "    <tr>\n",
       "      <th>4</th>\n",
       "      <td>2.526789e+06</td>\n",
       "      <td>6.972383e+06</td>\n",
       "      <td>2017-01-01</td>\n",
       "    </tr>\n",
       "  </tbody>\n",
       "</table>\n",
       "</div>"
      ],
      "text/plain": [
       "              x             y       date\n",
       "0  2.525848e+06  6.971430e+06 2017-01-01\n",
       "1  2.483264e+06  6.927857e+06 2017-01-01\n",
       "2  2.504030e+06  6.966014e+06 2017-01-01\n",
       "3  2.479656e+06  6.956554e+06 2017-01-01\n",
       "4  2.526789e+06  6.972383e+06 2017-01-01"
      ]
     },
     "execution_count": 6,
     "metadata": {},
     "output_type": "execute_result"
    }
   ],
   "source": [
    "s_data.head()"
   ]
  }
 ],
 "metadata": {
  "kernelspec": {
   "display_name": "iPre_venv",
   "language": "python",
   "name": "ipre_venv"
  },
  "language_info": {
   "codemirror_mode": {
    "name": "ipython",
    "version": 3
   },
   "file_extension": ".py",
   "mimetype": "text/x-python",
   "name": "python",
   "nbconvert_exporter": "python",
   "pygments_lexer": "ipython3",
   "version": "3.8.5"
  },
  "widgets": {
   "application/vnd.jupyter.widget-state+json": {
    "state": {},
    "version_major": 2,
    "version_minor": 0
   }
  }
 },
 "nbformat": 4,
 "nbformat_minor": 4
}
