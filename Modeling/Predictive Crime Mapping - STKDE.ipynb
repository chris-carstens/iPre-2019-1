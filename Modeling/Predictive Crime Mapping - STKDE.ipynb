{
 "cells": [
  {
   "cell_type": "markdown",
   "metadata": {},
   "source": [
    "# **Predictive Crime Mapping with a spatio-temporal kernel density estimation approach**"
   ]
  },
  {
   "cell_type": "markdown",
   "metadata": {},
   "source": [
    "## **Case of study: Dallas City**"
   ]
  },
  {
   "cell_type": "markdown",
   "metadata": {},
   "source": [
    "*Institute of Mathematical and Computational Engineering*\n",
    "\n",
    "*School of Engineering*\n",
    "\n",
    "*Pontifical Catholic University of Chile*\n",
    "\n",
    "**Authors:** Christian Carstens, Mauro Mendoza, Francisco Tobar\n",
    "\n",
    "**Date:** 2019-04-11\n",
    "\n",
    "`Python version: 3.7`"
   ]
  },
  {
   "cell_type": "markdown",
   "metadata": {},
   "source": [
    "### **DB Request**"
   ]
  },
  {
   "cell_type": "code",
   "execution_count": 1,
   "metadata": {},
   "outputs": [],
   "source": [
    "import pandas as pd\n",
    "from sodapy import Socrata\n",
    "\n",
    "import credentials as cre"
   ]
  },
  {
   "cell_type": "code",
   "execution_count": 146,
   "metadata": {},
   "outputs": [],
   "source": [
    "with Socrata(cre.socrata_domain,\n",
    "             cre.API_KEY_S,\n",
    "             username=cre.USERNAME_S,\n",
    "             password=cre.PASSWORD_S) as client:\n",
    "    query = \"\"\"\n",
    "select\n",
    "    incidentnum,\n",
    "    geocoded_column,\n",
    "    date1,\n",
    "    time1\n",
    "where\n",
    "    geocoded_column is not null\n",
    "    and date1 is not null\n",
    "    and time1 is not null\n",
    "limit\n",
    "    5\n",
    "\"\"\" # 530000 max. 11/04\n",
    "\n",
    "    results = client.get(cre.socrata_dataset_identifier, query=query, content_type='json')\n",
    "    df = pd.DataFrame.from_records(results)"
   ]
  },
  {
   "cell_type": "markdown",
   "metadata": {},
   "source": [
    "### **DB Cleaning & Formatting**"
   ]
  },
  {
   "cell_type": "markdown",
   "metadata": {},
   "source": [
    "#### Cleaning"
   ]
  },
  {
   "cell_type": "code",
   "execution_count": 143,
   "metadata": {},
   "outputs": [],
   "source": [
    "from datetime import date, time, datetime\n",
    "from time import strftime"
   ]
  },
  {
   "cell_type": "code",
   "execution_count": 147,
   "metadata": {},
   "outputs": [],
   "source": [
    "# 'date1' column cleaning: deleting 'T00:00:00.000'\n",
    "# df[\"date1\"] = df['date1'].apply(lambda x: date(*(int(i) for i in x.split('T')[0].split('-'))))\n",
    "\n",
    "df[\"date1\"] = df['date1'].apply(lambda x: '/'.join([str(int(i)) for i in x.split('T')[0].split('-')[::-1]]))\n",
    "df[\"time1\"] = df['time1'].apply(lambda x: datetime.strptime(x, \"%H:%M\").strftime(\"%I:%M %p\"))\n",
    "\n",
    "df['datetime'] = df[\"date1\"] + ' ' + df[\"time1\"]\n",
    "\n",
    "# 'incidentnum' column cleaning: deleting '20XX'\n",
    "df[\"incidentnum\"] = df['incidentnum'].apply(lambda x: x.split('-')[0])\n",
    "\n",
    "# Modificar la columna 'geocoded_column': Dividirla en dos columnas -> latitude, longitude\n",
    "\n",
    "# dict to list: [latitude, longitude]\n",
    "df['geocoded_column'] = df['geocoded_column'].apply(lambda x: x['coordinates'])\n",
    "\n",
    "# Column creation: latitude & longitude\n",
    "df['longitude'] = df['geocoded_column'].apply(lambda x: x[0])\n",
    "df['latitude'] = df['geocoded_column'].apply(lambda x: x[1])\n",
    "\n",
    "# Deletion the old column 'geocoded_column'\n",
    "del df['geocoded_column']\n",
    "del df[\"date1\"]\n",
    "del df[\"time1\"]"
   ]
  },
  {
   "cell_type": "code",
   "execution_count": 105,
   "metadata": {},
   "outputs": [
    {
     "data": {
      "text/html": [
       "<div>\n",
       "<style scoped>\n",
       "    .dataframe tbody tr th:only-of-type {\n",
       "        vertical-align: middle;\n",
       "    }\n",
       "\n",
       "    .dataframe tbody tr th {\n",
       "        vertical-align: top;\n",
       "    }\n",
       "\n",
       "    .dataframe thead th {\n",
       "        text-align: right;\n",
       "    }\n",
       "</style>\n",
       "<table border=\"1\" class=\"dataframe\">\n",
       "  <thead>\n",
       "    <tr style=\"text-align: right;\">\n",
       "      <th></th>\n",
       "      <th>incidentnum</th>\n",
       "      <th>datetime</th>\n",
       "      <th>longitude</th>\n",
       "      <th>latitude</th>\n",
       "    </tr>\n",
       "  </thead>\n",
       "  <tbody>\n",
       "    <tr>\n",
       "      <th>0</th>\n",
       "      <td>071975</td>\n",
       "      <td>4/4/2018 10:42 AM</td>\n",
       "      <td>-96.700292</td>\n",
       "      <td>32.893226</td>\n",
       "    </tr>\n",
       "    <tr>\n",
       "      <th>1</th>\n",
       "      <td>082945</td>\n",
       "      <td>19/4/2018 06:00 PM</td>\n",
       "      <td>-96.691377</td>\n",
       "      <td>32.883235</td>\n",
       "    </tr>\n",
       "    <tr>\n",
       "      <th>2</th>\n",
       "      <td>130869</td>\n",
       "      <td>16/6/2018 06:00 PM</td>\n",
       "      <td>-96.693665</td>\n",
       "      <td>32.894433</td>\n",
       "    </tr>\n",
       "    <tr>\n",
       "      <th>3</th>\n",
       "      <td>018171</td>\n",
       "      <td>24/1/2018 09:00 PM</td>\n",
       "      <td>-96.686146</td>\n",
       "      <td>32.878845</td>\n",
       "    </tr>\n",
       "    <tr>\n",
       "      <th>4</th>\n",
       "      <td>201197</td>\n",
       "      <td>9/9/2018 11:54 PM</td>\n",
       "      <td>-96.683125</td>\n",
       "      <td>32.883679</td>\n",
       "    </tr>\n",
       "  </tbody>\n",
       "</table>\n",
       "</div>"
      ],
      "text/plain": [
       "  incidentnum            datetime  longitude   latitude\n",
       "0      071975   4/4/2018 10:42 AM -96.700292  32.893226\n",
       "1      082945  19/4/2018 06:00 PM -96.691377  32.883235\n",
       "2      130869  16/6/2018 06:00 PM -96.693665  32.894433\n",
       "3      018171  24/1/2018 09:00 PM -96.686146  32.878845\n",
       "4      201197   9/9/2018 11:54 PM -96.683125  32.883679"
      ]
     },
     "execution_count": 105,
     "metadata": {},
     "output_type": "execute_result"
    }
   ],
   "source": [
    "df.head()"
   ]
  },
  {
   "cell_type": "markdown",
   "metadata": {},
   "source": [
    "#### Formatting"
   ]
  },
  {
   "cell_type": "code",
   "execution_count": 148,
   "metadata": {},
   "outputs": [],
   "source": [
    "# Cambio de nombre en las columnas\n",
    "df.rename(columns={'incidentnum':'incident_id'}, inplace=True)\n",
    "\n",
    "# Cambio de las posiciones de las columnas\n",
    "df = df[['incident_id', 'datetime',  'longitude', 'latitude']]\n",
    "\n",
    "# Sort of the 'incident_id' column\n",
    "df.sort_values(by=['incident_id'], inplace=True)\n",
    "\n",
    "# Reset the old index\n",
    "df.reset_index(drop=True, inplace=True)\n",
    "df.index = df.index + 1"
   ]
  },
  {
   "cell_type": "code",
   "execution_count": 73,
   "metadata": {},
   "outputs": [],
   "source": [
    "# En caso de que queramos exportar la base a .csv\n",
    "# df.to_csv('dallas_db.csv', index=False)"
   ]
  },
  {
   "cell_type": "markdown",
   "metadata": {},
   "source": [
    "### Dallas Map"
   ]
  },
  {
   "cell_type": "markdown",
   "metadata": {},
   "source": [
    "Cargamos los elementos necesarios para la visualización del mapa."
   ]
  },
  {
   "cell_type": "code",
   "execution_count": 49,
   "metadata": {},
   "outputs": [],
   "source": [
    "from arcgis import GIS, geocoding, features, geometry\n",
    "from arcgis.gis import GIS\n",
    "from arcgis.features import GeoAccessor, GeoSeriesAccessor\n",
    "\n",
    "from credentials import arcgis_domain, USERNAME_A, PASSWORD_A"
   ]
  },
  {
   "cell_type": "code",
   "execution_count": 137,
   "metadata": {},
   "outputs": [],
   "source": [
    "gis = GIS(arcgis_domain, USERNAME_A, PASSWORD_A)"
   ]
  },
  {
   "cell_type": "code",
   "execution_count": 149,
   "metadata": {},
   "outputs": [
    {
     "data": {
      "text/html": [
       "<div>\n",
       "<style scoped>\n",
       "    .dataframe tbody tr th:only-of-type {\n",
       "        vertical-align: middle;\n",
       "    }\n",
       "\n",
       "    .dataframe tbody tr th {\n",
       "        vertical-align: top;\n",
       "    }\n",
       "\n",
       "    .dataframe thead th {\n",
       "        text-align: right;\n",
       "    }\n",
       "</style>\n",
       "<table border=\"1\" class=\"dataframe\">\n",
       "  <thead>\n",
       "    <tr style=\"text-align: right;\">\n",
       "      <th></th>\n",
       "      <th>incident_id</th>\n",
       "      <th>datetime</th>\n",
       "      <th>longitude</th>\n",
       "      <th>latitude</th>\n",
       "    </tr>\n",
       "  </thead>\n",
       "  <tbody>\n",
       "    <tr>\n",
       "      <th>1</th>\n",
       "      <td>041722</td>\n",
       "      <td>26/2/2018 04:00 AM</td>\n",
       "      <td>-96.700339</td>\n",
       "      <td>32.884225</td>\n",
       "    </tr>\n",
       "    <tr>\n",
       "      <th>2</th>\n",
       "      <td>169301</td>\n",
       "      <td>1/8/2018 06:44 PM</td>\n",
       "      <td>-96.807846</td>\n",
       "      <td>32.792090</td>\n",
       "    </tr>\n",
       "    <tr>\n",
       "      <th>3</th>\n",
       "      <td>218546</td>\n",
       "      <td>23/9/2017 10:00 PM</td>\n",
       "      <td>-96.698923</td>\n",
       "      <td>32.894431</td>\n",
       "    </tr>\n",
       "    <tr>\n",
       "      <th>4</th>\n",
       "      <td>253127</td>\n",
       "      <td>5/11/2017 01:55 PM</td>\n",
       "      <td>-96.700296</td>\n",
       "      <td>32.886513</td>\n",
       "    </tr>\n",
       "    <tr>\n",
       "      <th>5</th>\n",
       "      <td>261985</td>\n",
       "      <td>16/11/2017 11:11 PM</td>\n",
       "      <td>-96.700293</td>\n",
       "      <td>32.892595</td>\n",
       "    </tr>\n",
       "  </tbody>\n",
       "</table>\n",
       "</div>"
      ],
      "text/plain": [
       "  incident_id             datetime  longitude   latitude\n",
       "1      041722   26/2/2018 04:00 AM -96.700339  32.884225\n",
       "2      169301    1/8/2018 06:44 PM -96.807846  32.792090\n",
       "3      218546   23/9/2017 10:00 PM -96.698923  32.894431\n",
       "4      253127   5/11/2017 01:55 PM -96.700296  32.886513\n",
       "5      261985  16/11/2017 11:11 PM -96.700293  32.892595"
      ]
     },
     "execution_count": 149,
     "metadata": {},
     "output_type": "execute_result"
    }
   ],
   "source": [
    "df.head(5)"
   ]
  },
  {
   "cell_type": "code",
   "execution_count": 155,
   "metadata": {
    "scrolled": true
   },
   "outputs": [
    {
     "data": {
      "application/vnd.jupyter.widget-view+json": {
       "model_id": "308865f2ed6a490ca686641a30a798a2",
       "version_major": 2,
       "version_minor": 0
      },
      "text/plain": [
       "MapView(layout=Layout(height='400px', width='100%'), zoom=11.0)"
      ]
     },
     "metadata": {},
     "output_type": "display_data"
    },
    {
     "data": {
      "text/html": [
       "<div class=\"map-static-img-preview-cb09411e-07e4-42a7-96ff-023ebe0473f9\"><img src=\"\"></img></div>"
      ],
      "text/plain": [
       "<IPython.core.display.HTML object>"
      ]
     },
     "metadata": {},
     "output_type": "display_data"
    }
   ],
   "source": [
    "map_1 = gis.map('Dallas', zoomlevel=11, mode=\"2D\")\n",
    "map_1.basemap = \"dark-gray-vector\"\n",
    "\n",
    "sdf = df.spatial\n",
    "incidents = gis.content.import_data(df, title=\"Dallas Incidents\")\n",
    "\n",
    "map_1.add_layer(incidents)\n",
    "\n",
    "map_1"
   ]
  },
  {
   "cell_type": "markdown",
   "metadata": {},
   "source": [
    "Additional info. about Dallas City."
   ]
  },
  {
   "cell_type": "code",
   "execution_count": 40,
   "metadata": {},
   "outputs": [
    {
     "data": {
      "text/plain": [
       "'Dallas -> longitude: -96.79539999999997, latitude: 32.77815000000004'"
      ]
     },
     "execution_count": 40,
     "metadata": {},
     "output_type": "execute_result"
    }
   ],
   "source": [
    "gcode = geocoding.geocode(address=\"Dallas, Texas\")[0][\"location\"]\n",
    "citylong = gcode[\"x\"]\n",
    "citylat = gcode[\"y\"]\n",
    "\n",
    "f\"Dallas -> longitude: {citylong}, latitude: {citylat}\""
   ]
  }
 ],
 "metadata": {
  "kernelspec": {
   "display_name": "Python 3",
   "language": "python",
   "name": "python3"
  },
  "language_info": {
   "codemirror_mode": {
    "name": "ipython",
    "version": 3
   },
   "file_extension": ".py",
   "mimetype": "text/x-python",
   "name": "python",
   "nbconvert_exporter": "python",
   "pygments_lexer": "ipython3",
   "version": "3.7.1"
  }
 },
 "nbformat": 4,
 "nbformat_minor": 2
}
