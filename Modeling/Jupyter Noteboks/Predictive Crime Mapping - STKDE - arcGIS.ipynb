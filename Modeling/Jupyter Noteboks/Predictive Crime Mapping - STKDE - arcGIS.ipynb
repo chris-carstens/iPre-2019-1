{
 "cells": [
  {
   "cell_type": "markdown",
   "metadata": {},
   "source": [
    "# **Predictive Crime Mapping with a spatio-temporal kernel density estimation approach**"
   ]
  },
  {
   "cell_type": "markdown",
   "metadata": {},
   "source": [
    "## **Case of study: Dallas City**"
   ]
  },
  {
   "cell_type": "markdown",
   "metadata": {},
   "source": [
    "*Institute of Mathematical and Computational Engineering*\n",
    "\n",
    "*School of Engineering*\n",
    "\n",
    "*Pontifical Catholic University of Chile*\n",
    "\n",
    "**Authors:** Christian Carstens, Mauro Mendoza, Francisco Tobar\n",
    "\n",
    "**Date:** 2019-04-11\n",
    "\n",
    "`Python version: 3.7`"
   ]
  },
  {
   "cell_type": "markdown",
   "metadata": {},
   "source": [
    "### **DB Request**"
   ]
  },
  {
   "cell_type": "code",
   "execution_count": 2,
   "metadata": {},
   "outputs": [],
   "source": [
    "import pandas as pd\n",
    "from sodapy import Socrata\n",
    "\n",
    "import credentials as cre"
   ]
  },
  {
   "cell_type": "code",
   "execution_count": 3,
   "metadata": {},
   "outputs": [],
   "source": [
    "with Socrata(cre.socrata_domain,\n",
    "             cre.API_KEY_S,\n",
    "             username=cre.USERNAME_S,\n",
    "             password=cre.PASSWORD_S) as client:\n",
    "    query = \"\"\"\n",
    "select\n",
    "    incidentnum,\n",
    "    geocoded_column,\n",
    "    date1,\n",
    "    time1,\n",
    "    x_coordinate,\n",
    "    y_cordinate\n",
    "where\n",
    "    geocoded_column is not null\n",
    "    and date1 is not null\n",
    "    and time1 is not null\n",
    "    and x_coordinate is not null\n",
    "    and y_cordinate is not null\n",
    "limit\n",
    "    100\n",
    "\"\"\" # 530000 max. 11/04\n",
    "\n",
    "    results = client.get(cre.socrata_dataset_identifier, query=query, content_type='json')\n",
    "    df = pd.DataFrame.from_records(results)"
   ]
  },
  {
   "cell_type": "code",
   "execution_count": 4,
   "metadata": {},
   "outputs": [
    {
     "name": "stderr",
     "output_type": "stream",
     "text": [
      "/Users/msmendozaelguera/Library/Mobile Documents/com~apple~CloudDocs/2019-1/iPre/venv/lib/python3.7/site-packages/pandas/core/frame.py:4025: SettingWithCopyWarning: \n",
      "A value is trying to be set on a copy of a slice from a DataFrame\n",
      "\n",
      "See the caveats in the documentation: http://pandas.pydata.org/pandas-docs/stable/indexing.html#indexing-view-versus-copy\n",
      "  return super(DataFrame, self).rename(**kwargs)\n",
      "/Users/msmendozaelguera/Library/Mobile Documents/com~apple~CloudDocs/2019-1/iPre/venv/lib/python3.7/site-packages/ipykernel_launcher.py:5: SettingWithCopyWarning: \n",
      "A value is trying to be set on a copy of a slice from a DataFrame.\n",
      "Try using .loc[row_indexer,col_indexer] = value instead\n",
      "\n",
      "See the caveats in the documentation: http://pandas.pydata.org/pandas-docs/stable/indexing.html#indexing-view-versus-copy\n",
      "  \"\"\"\n",
      "/Users/msmendozaelguera/Library/Mobile Documents/com~apple~CloudDocs/2019-1/iPre/venv/lib/python3.7/site-packages/ipykernel_launcher.py:6: SettingWithCopyWarning: \n",
      "A value is trying to be set on a copy of a slice from a DataFrame.\n",
      "Try using .loc[row_indexer,col_indexer] = value instead\n",
      "\n",
      "See the caveats in the documentation: http://pandas.pydata.org/pandas-docs/stable/indexing.html#indexing-view-versus-copy\n",
      "  \n"
     ]
    }
   ],
   "source": [
    "# ejecutar esto para la parte post-mapa arcgis\n",
    "\n",
    "df_hm = df[['x_coordinate', 'y_cordinate']]\n",
    "df_hm.rename(columns={'x_coordinate':'x', 'y_cordinate':'y'}, inplace=True)\n",
    "df_hm['x'] = df_hm['x'].apply(lambda x: float(x))\n",
    "df_hm['y'] = df_hm['y'].apply(lambda x: float(x))"
   ]
  },
  {
   "cell_type": "markdown",
   "metadata": {},
   "source": [
    "### **DB Cleaning & Formatting**"
   ]
  },
  {
   "cell_type": "markdown",
   "metadata": {},
   "source": [
    "#### Cleaning"
   ]
  },
  {
   "cell_type": "code",
   "execution_count": 5,
   "metadata": {},
   "outputs": [],
   "source": [
    "from datetime import date, time, datetime\n",
    "from time import strftime"
   ]
  },
  {
   "cell_type": "code",
   "execution_count": 6,
   "metadata": {},
   "outputs": [],
   "source": [
    "# 'date1' column cleaning: deleting 'T00:00:00.000'\n",
    "# df[\"date1\"] = df['date1'].apply(lambda x: date(*(int(i) for i in x.split('T')[0].split('-'))))\n",
    "\n",
    "df[\"date1\"] = df['date1'].apply(lambda x: '/'.join([str(int(i)) for i in x.split('T')[0].split('-')[::-1]]))\n",
    "df[\"time1\"] = df['time1'].apply(lambda x: datetime.strptime(x, \"%H:%M\").strftime(\"%I:%M %p\"))\n",
    "\n",
    "df['datetime'] = df[\"date1\"] + ' ' + df[\"time1\"]\n",
    "\n",
    "# 'incidentnum' column cleaning: deleting '20XX'\n",
    "df[\"incidentnum\"] = df['incidentnum'].apply(lambda x: x.split('-')[0])\n",
    "\n",
    "# Modificar la columna 'geocoded_column': Dividirla en dos columnas -> latitude, longitude\n",
    "\n",
    "# dict to list: [latitude, longitude]\n",
    "df['geocoded_column'] = df['geocoded_column'].apply(lambda x: x['coordinates'])\n",
    "\n",
    "# Column creation: latitude & longitude\n",
    "df['longitude'] = df['geocoded_column'].apply(lambda x: x[0])\n",
    "df['latitude'] = df['geocoded_column'].apply(lambda x: x[1])\n",
    "\n",
    "# Deletion the old column 'geocoded_column'\n",
    "del df['geocoded_column']\n",
    "del df[\"date1\"]\n",
    "del df[\"time1\"]"
   ]
  },
  {
   "cell_type": "markdown",
   "metadata": {},
   "source": [
    "#### Formatting"
   ]
  },
  {
   "cell_type": "code",
   "execution_count": 7,
   "metadata": {},
   "outputs": [],
   "source": [
    "# Cambio de nombre en las columnas\n",
    "df.rename(columns={'incidentnum':'incident_id'}, inplace=True)\n",
    "\n",
    "# Cambio de las posiciones de las columnas\n",
    "df = df[['incident_id', 'datetime',  'longitude', 'latitude']]\n",
    "\n",
    "# Sort of the 'incident_id' column\n",
    "df.sort_values(by=['incident_id'], inplace=True)\n",
    "\n",
    "# Reset the old index\n",
    "df.reset_index(drop=True, inplace=True)\n",
    "df.index = df.index + 1"
   ]
  },
  {
   "cell_type": "code",
   "execution_count": 8,
   "metadata": {},
   "outputs": [],
   "source": [
    "# En caso de que queramos exportar la base a .csv\n",
    "# df.to_csv('dallas_db.csv', index=False)"
   ]
  },
  {
   "cell_type": "markdown",
   "metadata": {},
   "source": [
    "### Dallas Map"
   ]
  },
  {
   "cell_type": "markdown",
   "metadata": {},
   "source": [
    "Cargamos los elementos necesarios para la visualización del mapa."
   ]
  },
  {
   "cell_type": "code",
   "execution_count": 9,
   "metadata": {},
   "outputs": [],
   "source": [
    "from arcgis import GIS, geocoding, features, geometry\n",
    "from arcgis.gis import GIS\n",
    "from arcgis.features import GeoAccessor, GeoSeriesAccessor\n",
    "from arcgis.mapping import renderer\n",
    "\n",
    "from credentials import arcgis_domain, USERNAME_A, PASSWORD_A"
   ]
  },
  {
   "cell_type": "code",
   "execution_count": 10,
   "metadata": {},
   "outputs": [],
   "source": [
    "gis = GIS(arcgis_domain, USERNAME_A, PASSWORD_A)"
   ]
  },
  {
   "cell_type": "code",
   "execution_count": 14,
   "metadata": {},
   "outputs": [],
   "source": [
    "_map = gis.map('Dallas', zoomlevel=11, mode=\"3D\")\n",
    "_map.basemap = \"dark-gray-vector\"\n",
    "\n",
    "sdf = df.spatial\n",
    "incidents = gis.content.import_data(df, title=\"Dallas Incidents\")\n",
    "\n",
    "_map.add_layer(incidents)"
   ]
  },
  {
   "cell_type": "code",
   "execution_count": 15,
   "metadata": {},
   "outputs": [
    {
     "data": {
      "application/vnd.jupyter.widget-view+json": {
       "model_id": "5c5470f856a54905b1ec9d96005cd23c",
       "version_major": 2,
       "version_minor": 0
      },
      "text/plain": [
       "MapView(layout=Layout(height='400px', width='100%'), mode='3D', zoom=11.0)"
      ]
     },
     "metadata": {},
     "output_type": "display_data"
    },
    {
     "data": {
      "text/html": [
       "<div class=\"map-static-img-preview-e416e0d1-a68f-43c6-bcdf-23d83aa66cea\"><img src=\"\"></img></div>"
      ],
      "text/plain": [
       "<IPython.core.display.HTML object>"
      ]
     },
     "metadata": {},
     "output_type": "display_data"
    }
   ],
   "source": [
    "_map"
   ]
  }
 ],
 "metadata": {
  "kernelspec": {
   "display_name": "Python 3",
   "language": "python",
   "name": "python3"
  },
  "language_info": {
   "codemirror_mode": {
    "name": "ipython",
    "version": 3
   },
   "file_extension": ".py",
   "mimetype": "text/x-python",
   "name": "python",
   "nbconvert_exporter": "python",
   "pygments_lexer": "ipython3",
   "version": "3.7.2"
  }
 },
 "nbformat": 4,
 "nbformat_minor": 2
}
